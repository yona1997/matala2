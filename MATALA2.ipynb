{
 "cells": [
  {
   "cell_type": "code",
   "execution_count": 18,
   "metadata": {},
   "outputs": [],
   "source": [
    "import pandas as pd\n",
    "%matplotlib inline\n",
    "import numpy as np \n",
    "import matplotlib.pyplot as plt \n",
    "import datetime as dt\n",
    "import re"
   ]
  },
  {
   "cell_type": "code",
   "execution_count": 19,
   "metadata": {},
   "outputs": [
    {
     "name": "stderr",
     "output_type": "stream",
     "text": [
      "c:\\Users\\yona\\anaconda3\\lib\\site-packages\\IPython\\core\\interactiveshell.py:3146: DtypeWarning: Columns (6) have mixed types.Specify dtype option on import or set low_memory=False.\n",
      "  has_raised = await self.run_ast_nodes(code_ast.body, cell_name,\n"
     ]
    },
    {
     "name": "stdout",
     "output_type": "stream",
     "text": [
      "<class 'pandas.core.frame.DataFrame'>\n",
      "RangeIndex: 1048575 entries, 0 to 1048574\n",
      "Data columns (total 9 columns):\n",
      " #   Column         Non-Null Count    Dtype \n",
      "---  ------         --------------    ----- \n",
      " 0   event_time     1048575 non-null  object\n",
      " 1   event_type     1048575 non-null  object\n",
      " 2   product_id     1048575 non-null  int64 \n",
      " 3   category_id    1048575 non-null  int64 \n",
      " 4   category_code  16715 non-null    object\n",
      " 5   brand          602451 non-null   object\n",
      " 6   price          1048575 non-null  object\n",
      " 7   user_id        1048575 non-null  int64 \n",
      " 8   user_session   1048357 non-null  object\n",
      "dtypes: int64(3), object(6)\n",
      "memory usage: 72.0+ MB\n"
     ]
    }
   ],
   "source": [
    "data = pd.read_csv('matala2_cosmetics_2019-Nov.csv')\n",
    "data.head()\n",
    "data.info()"
   ]
  },
  {
   "cell_type": "code",
   "execution_count": 20,
   "metadata": {},
   "outputs": [],
   "source": [
    "data = data[data['user_session'].notnull()]"
   ]
  },
  {
   "cell_type": "code",
   "execution_count": 21,
   "metadata": {},
   "outputs": [
    {
     "name": "stdout",
     "output_type": "stream",
     "text": [
      "<class 'pandas.core.frame.DataFrame'>\n",
      "Int64Index: 1048357 entries, 0 to 1048574\n",
      "Data columns (total 9 columns):\n",
      " #   Column         Non-Null Count    Dtype         \n",
      "---  ------         --------------    -----         \n",
      " 0   event_time     1048357 non-null  datetime64[ns]\n",
      " 1   event_type     1048357 non-null  object        \n",
      " 2   product_id     1048357 non-null  int64         \n",
      " 3   category_id    1048357 non-null  int64         \n",
      " 4   category_code  16715 non-null    object        \n",
      " 5   brand          602332 non-null   object        \n",
      " 6   price          1048357 non-null  object        \n",
      " 7   user_id        1048357 non-null  int64         \n",
      " 8   user_session   1048357 non-null  object        \n",
      "dtypes: datetime64[ns](1), int64(3), object(5)\n",
      "memory usage: 80.0+ MB\n"
     ]
    }
   ],
   "source": [
    "data['event_time'] = data['event_time'].apply(lambda x: dt.datetime.strptime(x,'%Y-%m-%d %H:%M:%S'))\n",
    "data.info()"
   ]
  },
  {
   "attachments": {},
   "cell_type": "markdown",
   "metadata": {},
   "source": [
    "\n",
    "**סעיף 1**"
   ]
  },
  {
   "cell_type": "code",
   "execution_count": 22,
   "metadata": {},
   "outputs": [],
   "source": [
    "data = data.sort_values(['user_session', 'event_time'], ascending=[True, True])\n",
    "data['duration_to_next_event'] = data.groupby('user_session')['event_time'].diff(-1).dt.total_seconds().fillna(0)\n",
    "data.loc[data.groupby('user_session').tail(1).index, 'duration_to_next_event'] = 0\n",
    "data['duration_to_next_event'] = data['duration_to_next_event'].abs()"
   ]
  },
  {
   "attachments": {},
   "cell_type": "markdown",
   "metadata": {},
   "source": [
    "**סעיף 2**"
   ]
  },
  {
   "cell_type": "code",
   "execution_count": 23,
   "metadata": {},
   "outputs": [],
   "source": [
    "data = data.sort_values(['user_id', 'event_time'], ascending=[True, True])\n",
    "data['diff_for_funnel'] = data.groupby('user_id')['event_time'].diff()\n",
    "data['funnel_number'] = (data['diff_for_funnel'] > pd.Timedelta(days=5)).groupby(data['user_id']).cumsum()\n",
    "data['funnel_number'] = data['funnel_number'].fillna(0) + 1"
   ]
  },
  {
   "attachments": {},
   "cell_type": "markdown",
   "metadata": {},
   "source": [
    "**סעיף 3**"
   ]
  },
  {
   "cell_type": "code",
   "execution_count": 24,
   "metadata": {},
   "outputs": [],
   "source": [
    "data['index_in_funnel'] = data.groupby(['user_id','funnel_number'])['user_session'].transform('nunique')"
   ]
  },
  {
   "attachments": {},
   "cell_type": "markdown",
   "metadata": {},
   "source": [
    "**סעיף 4**"
   ]
  },
  {
   "attachments": {},
   "cell_type": "markdown",
   "metadata": {},
   "source": [
    "לגבי הסעיף הזה שמתי לב כשאני מנסה להעיף את התבים שהם לא מספר בעמודה מחיר הפקודה היה מוחק לי חלק מהערכים התקינים \n",
    " אז בחרתי לייצר דאטה פראם חדש שכוללת רק את הערכים הלא תקינים ,לעיף את התבים שהם לא מספר ואז להחליף את השורות האלה בדאטה פראם המקורי עם השורות של הדאטה פראם שעבדתי עליו.\n"
   ]
  },
  {
   "cell_type": "code",
   "execution_count": 25,
   "metadata": {},
   "outputs": [
    {
     "name": "stderr",
     "output_type": "stream",
     "text": [
      "<ipython-input-25-ba6a850d3df2>:2: SettingWithCopyWarning: \n",
      "A value is trying to be set on a copy of a slice from a DataFrame.\n",
      "Try using .loc[row_indexer,col_indexer] = value instead\n",
      "\n",
      "See the caveats in the documentation: https://pandas.pydata.org/pandas-docs/stable/user_guide/indexing.html#returning-a-view-versus-a-copy\n",
      "  data_with_letter_in_price['price'] = data_with_letter_in_price['price'].str.extract(r'(\\d+\\.?\\d*)', expand=False)\n"
     ]
    }
   ],
   "source": [
    "data_with_letter_in_price = data[data['price'].str.contains(r'[^\\d.]', na=False)]\n",
    "data_with_letter_in_price['price'] = data_with_letter_in_price['price'].str.extract(r'(\\d+\\.?\\d*)', expand=False)\n",
    "data.update(data_with_letter_in_price)\n",
    "data['price'] = data['price'].astype(float)"
   ]
  },
  {
   "attachments": {},
   "cell_type": "markdown",
   "metadata": {},
   "source": [
    "**סעיף 5**"
   ]
  },
  {
   "cell_type": "code",
   "execution_count": 26,
   "metadata": {},
   "outputs": [
    {
     "data": {
      "image/png": "[encoded data removed]",
      "text/plain": [
       "<Figure size 432x288 with 1 Axes>"
      ]
     },
     "metadata": {
      "needs_background": "light"
     },
     "output_type": "display_data"
    }
   ],
   "source": [
    "data['event_type'].value_counts().plot(kind='bar', xlabel='event type', ylabel='frequency')\n",
    "plt.show()"
   ]
  },
  {
   "attachments": {},
   "cell_type": "markdown",
   "metadata": {},
   "source": [
    "**סעיף 6**"
   ]
  },
  {
   "cell_type": "code",
   "execution_count": 27,
   "metadata": {},
   "outputs": [],
   "source": [
    "#CREATE A NEW DATAFRAME\n",
    "session_data = data.loc[:, ['user_id', 'user_session', 'funnel_number','index_in_funnel']].drop_duplicates()\n"
   ]
  },
  {
   "cell_type": "code",
   "execution_count": 28,
   "metadata": {},
   "outputs": [],
   "source": [
    "#COUNT num of event for session\n",
    "datacounts = data.groupby('user_session')['event_time'].count()\n",
    "session_data ['num_of_event'] = session_data ['user_session'].map(datacounts)"
   ]
  },
  {
   "cell_type": "code",
   "execution_count": 29,
   "metadata": {},
   "outputs": [],
   "source": [
    "#TIME of event for session\n",
    "datatime = data.groupby('user_session')['event_time'].apply(lambda x: x.max() - x.min())\n",
    "session_data ['connection_time'] = session_data ['user_session'].map(datatime)\n"
   ]
  },
  {
   "cell_type": "code",
   "execution_count": 30,
   "metadata": {},
   "outputs": [],
   "source": [
    "#PRODUCT ID view for session\n",
    "view_products_list = data[data['event_type'] == 'view'].groupby('user_session')['product_id'].agg(list)\n",
    "session_data['list_of_viewed'] = session_data ['user_session'].map(view_products_list)"
   ]
  },
  {
   "cell_type": "code",
   "execution_count": 31,
   "metadata": {},
   "outputs": [],
   "source": [
    "#PRODUCT ID cart for session\n",
    "cart_products_list = data[data['event_type'] == 'cart'].groupby('user_session')['product_id'].agg(list)\n",
    "session_data['list_of_added_to_cart'] = session_data ['user_session'].map(cart_products_list)"
   ]
  },
  {
   "cell_type": "code",
   "execution_count": 32,
   "metadata": {},
   "outputs": [],
   "source": [
    "#PRODUCT ID purchase for session\n",
    "purchases_products_list = data[data['event_type'] == 'purchase'].groupby('user_session')['product_id'].agg(list)\n",
    "session_data['list_of_purchased'] = session_data ['user_session'].map(purchases_products_list)"
   ]
  },
  {
   "cell_type": "code",
   "execution_count": 33,
   "metadata": {},
   "outputs": [
    {
     "data": {
      "text/html": [
       "<div>\n",
       "<style scoped>\n",
       "    .dataframe tbody tr th:only-of-type {\n",
       "        vertical-align: middle;\n",
       "    }\n",
       "\n",
       "    .dataframe tbody tr th {\n",
       "        vertical-align: top;\n",
       "    }\n",
       "\n",
       "    .dataframe thead th {\n",
       "        text-align: right;\n",
       "    }\n",
       "</style>\n",
       "<table border=\"1\" class=\"dataframe\">\n",
       "  <thead>\n",
       "    <tr style=\"text-align: right;\">\n",
       "      <th></th>\n",
       "      <th>user_id</th>\n",
       "      <th>user_session</th>\n",
       "      <th>funnel_number</th>\n",
       "      <th>index_in_funnel</th>\n",
       "      <th>num_of_event</th>\n",
       "      <th>connection_time</th>\n",
       "      <th>list_of_viewed</th>\n",
       "      <th>list_of_added_to_cart</th>\n",
       "      <th>list_of_purchased</th>\n",
       "    </tr>\n",
       "  </thead>\n",
       "  <tbody>\n",
       "    <tr>\n",
       "      <th>437209</th>\n",
       "      <td>1120748.0</td>\n",
       "      <td>d0484d94-7ac1-44e8-a310-2360da11ad9d</td>\n",
       "      <td>1.0</td>\n",
       "      <td>1.0</td>\n",
       "      <td>1</td>\n",
       "      <td>0 days 00:00:00</td>\n",
       "      <td>[5240.0]</td>\n",
       "      <td>NaN</td>\n",
       "      <td>NaN</td>\n",
       "    </tr>\n",
       "    <tr>\n",
       "      <th>697519</th>\n",
       "      <td>10079204.0</td>\n",
       "      <td>f873d16b-4efa-4e92-81be-92948aef2ff5</td>\n",
       "      <td>1.0</td>\n",
       "      <td>1.0</td>\n",
       "      <td>4</td>\n",
       "      <td>0 days 00:02:56</td>\n",
       "      <td>NaN</td>\n",
       "      <td>[5614842.0, 5766379.0]</td>\n",
       "      <td>[5766379.0, 5614842.0]</td>\n",
       "    </tr>\n",
       "    <tr>\n",
       "      <th>331383</th>\n",
       "      <td>10521214.0</td>\n",
       "      <td>25d2d492-d688-4baa-adf1-7296dbdd663e</td>\n",
       "      <td>1.0</td>\n",
       "      <td>1.0</td>\n",
       "      <td>3</td>\n",
       "      <td>0 days 00:02:13</td>\n",
       "      <td>[5713294.0, 5713295.0, 5713294.0]</td>\n",
       "      <td>NaN</td>\n",
       "      <td>NaN</td>\n",
       "    </tr>\n",
       "    <tr>\n",
       "      <th>462864</th>\n",
       "      <td>11274156.0</td>\n",
       "      <td>0c778a88-4700-4e8b-becb-3371ec28ea79</td>\n",
       "      <td>1.0</td>\n",
       "      <td>2.0</td>\n",
       "      <td>2</td>\n",
       "      <td>0 days 00:00:20</td>\n",
       "      <td>[5899834.0]</td>\n",
       "      <td>[5809910.0]</td>\n",
       "      <td>NaN</td>\n",
       "    </tr>\n",
       "    <tr>\n",
       "      <th>463230</th>\n",
       "      <td>11274156.0</td>\n",
       "      <td>7bcf0afd-33ab-49ca-bd55-9c11a817b3d2</td>\n",
       "      <td>1.0</td>\n",
       "      <td>2.0</td>\n",
       "      <td>1</td>\n",
       "      <td>0 days 00:00:00</td>\n",
       "      <td>[5649179.0]</td>\n",
       "      <td>NaN</td>\n",
       "      <td>NaN</td>\n",
       "    </tr>\n",
       "    <tr>\n",
       "      <th>...</th>\n",
       "      <td>...</td>\n",
       "      <td>...</td>\n",
       "      <td>...</td>\n",
       "      <td>...</td>\n",
       "      <td>...</td>\n",
       "      <td>...</td>\n",
       "      <td>...</td>\n",
       "      <td>...</td>\n",
       "      <td>...</td>\n",
       "    </tr>\n",
       "    <tr>\n",
       "      <th>1048392</th>\n",
       "      <td>568926337.0</td>\n",
       "      <td>1325e7ce-c706-4253-99ad-1eaf9cfe70ee</td>\n",
       "      <td>1.0</td>\n",
       "      <td>1.0</td>\n",
       "      <td>1</td>\n",
       "      <td>0 days 00:00:00</td>\n",
       "      <td>[5861591.0]</td>\n",
       "      <td>NaN</td>\n",
       "      <td>NaN</td>\n",
       "    </tr>\n",
       "    <tr>\n",
       "      <th>1048385</th>\n",
       "      <td>568926338.0</td>\n",
       "      <td>09994a71-7ac0-415a-9f49-d8df982ac9dd</td>\n",
       "      <td>1.0</td>\n",
       "      <td>1.0</td>\n",
       "      <td>1</td>\n",
       "      <td>0 days 00:00:00</td>\n",
       "      <td>[5799891.0]</td>\n",
       "      <td>NaN</td>\n",
       "      <td>NaN</td>\n",
       "    </tr>\n",
       "    <tr>\n",
       "      <th>1048471</th>\n",
       "      <td>568926409.0</td>\n",
       "      <td>0e45dae2-2e7a-4919-9ec2-cbecd4354a02</td>\n",
       "      <td>1.0</td>\n",
       "      <td>1.0</td>\n",
       "      <td>1</td>\n",
       "      <td>0 days 00:00:00</td>\n",
       "      <td>[5881598.0]</td>\n",
       "      <td>NaN</td>\n",
       "      <td>NaN</td>\n",
       "    </tr>\n",
       "    <tr>\n",
       "      <th>1048462</th>\n",
       "      <td>568926576.0</td>\n",
       "      <td>de462037-13f3-4217-9b8e-408e1ba014d9</td>\n",
       "      <td>1.0</td>\n",
       "      <td>1.0</td>\n",
       "      <td>1</td>\n",
       "      <td>0 days 00:00:00</td>\n",
       "      <td>[5876382.0]</td>\n",
       "      <td>NaN</td>\n",
       "      <td>NaN</td>\n",
       "    </tr>\n",
       "    <tr>\n",
       "      <th>1048552</th>\n",
       "      <td>568926759.0</td>\n",
       "      <td>b1298c52-9c29-433a-af8b-4f4136aaa5bb</td>\n",
       "      <td>1.0</td>\n",
       "      <td>1.0</td>\n",
       "      <td>1</td>\n",
       "      <td>0 days 00:00:00</td>\n",
       "      <td>[5752939.0]</td>\n",
       "      <td>NaN</td>\n",
       "      <td>NaN</td>\n",
       "    </tr>\n",
       "  </tbody>\n",
       "</table>\n",
       "<p>210621 rows × 9 columns</p>\n",
       "</div>"
      ],
      "text/plain": [
       "             user_id                          user_session  funnel_number  \\\n",
       "437209     1120748.0  d0484d94-7ac1-44e8-a310-2360da11ad9d            1.0   \n",
       "697519    10079204.0  f873d16b-4efa-4e92-81be-92948aef2ff5            1.0   \n",
       "331383    10521214.0  25d2d492-d688-4baa-adf1-7296dbdd663e            1.0   \n",
       "462864    11274156.0  0c778a88-4700-4e8b-becb-3371ec28ea79            1.0   \n",
       "463230    11274156.0  7bcf0afd-33ab-49ca-bd55-9c11a817b3d2            1.0   \n",
       "...              ...                                   ...            ...   \n",
       "1048392  568926337.0  1325e7ce-c706-4253-99ad-1eaf9cfe70ee            1.0   \n",
       "1048385  568926338.0  09994a71-7ac0-415a-9f49-d8df982ac9dd            1.0   \n",
       "1048471  568926409.0  0e45dae2-2e7a-4919-9ec2-cbecd4354a02            1.0   \n",
       "1048462  568926576.0  de462037-13f3-4217-9b8e-408e1ba014d9            1.0   \n",
       "1048552  568926759.0  b1298c52-9c29-433a-af8b-4f4136aaa5bb            1.0   \n",
       "\n",
       "         index_in_funnel  num_of_event connection_time  \\\n",
       "437209               1.0             1 0 days 00:00:00   \n",
       "697519               1.0             4 0 days 00:02:56   \n",
       "331383               1.0             3 0 days 00:02:13   \n",
       "462864               2.0             2 0 days 00:00:20   \n",
       "463230               2.0             1 0 days 00:00:00   \n",
       "...                  ...           ...             ...   \n",
       "1048392              1.0             1 0 days 00:00:00   \n",
       "1048385              1.0             1 0 days 00:00:00   \n",
       "1048471              1.0             1 0 days 00:00:00   \n",
       "1048462              1.0             1 0 days 00:00:00   \n",
       "1048552              1.0             1 0 days 00:00:00   \n",
       "\n",
       "                            list_of_viewed   list_of_added_to_cart  \\\n",
       "437209                            [5240.0]                     NaN   \n",
       "697519                                 NaN  [5614842.0, 5766379.0]   \n",
       "331383   [5713294.0, 5713295.0, 5713294.0]                     NaN   \n",
       "462864                         [5899834.0]             [5809910.0]   \n",
       "463230                         [5649179.0]                     NaN   \n",
       "...                                    ...                     ...   \n",
       "1048392                        [5861591.0]                     NaN   \n",
       "1048385                        [5799891.0]                     NaN   \n",
       "1048471                        [5881598.0]                     NaN   \n",
       "1048462                        [5876382.0]                     NaN   \n",
       "1048552                        [5752939.0]                     NaN   \n",
       "\n",
       "              list_of_purchased  \n",
       "437209                      NaN  \n",
       "697519   [5766379.0, 5614842.0]  \n",
       "331383                      NaN  \n",
       "462864                      NaN  \n",
       "463230                      NaN  \n",
       "...                         ...  \n",
       "1048392                     NaN  \n",
       "1048385                     NaN  \n",
       "1048471                     NaN  \n",
       "1048462                     NaN  \n",
       "1048552                     NaN  \n",
       "\n",
       "[210621 rows x 9 columns]"
      ]
     },
     "execution_count": 33,
     "metadata": {},
     "output_type": "execute_result"
    }
   ],
   "source": [
    "session_data"
   ]
  },
  {
   "cell_type": "code",
   "execution_count": null,
   "metadata": {},
   "outputs": [],
   "source": []
  }
 ],
 "metadata": {
  "kernelspec": {
   "display_name": "base",
   "language": "python",
   "name": "python3"
  },
  "language_info": {
   "codemirror_mode": {
    "name": "ipython",
    "version": 3
   },
   "file_extension": ".py",
   "mimetype": "text/x-python",
   "name": "python",
   "nbconvert_exporter": "python",
   "pygments_lexer": "ipython3",
   "version": "3.8.5"
  },
  "orig_nbformat": 4
 },
 "nbformat": 4,
 "nbformat_minor": 2
}
