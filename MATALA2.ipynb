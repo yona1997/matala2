{
 "cells": [
  {
   "cell_type": "code",
   "execution_count": 863,
   "metadata": {},
   "outputs": [],
   "source": [
    "import pandas as pd\n",
    "%matplotlib inline\n",
    "import numpy as np \n",
    "import matplotlib.pyplot as plt \n",
    "import datetime as dt\n",
    "import re"
   ]
  },
  {
   "cell_type": "code",
   "execution_count": 864,
   "metadata": {},
   "outputs": [
    {
     "name": "stderr",
     "output_type": "stream",
     "text": [
      "c:\\Users\\yona\\anaconda3\\lib\\site-packages\\IPython\\core\\interactiveshell.py:3146: DtypeWarning: Columns (6) have mixed types.Specify dtype option on import or set low_memory=False.\n",
      "  has_raised = await self.run_ast_nodes(code_ast.body, cell_name,\n"
     ]
    },
    {
     "name": "stdout",
     "output_type": "stream",
     "text": [
      "<class 'pandas.core.frame.DataFrame'>\n",
      "RangeIndex: 1048575 entries, 0 to 1048574\n",
      "Data columns (total 9 columns):\n",
      " #   Column         Non-Null Count    Dtype \n",
      "---  ------         --------------    ----- \n",
      " 0   event_time     1048575 non-null  object\n",
      " 1   event_type     1048575 non-null  object\n",
      " 2   product_id     1048575 non-null  int64 \n",
      " 3   category_id    1048575 non-null  int64 \n",
      " 4   category_code  16715 non-null    object\n",
      " 5   brand          602451 non-null   object\n",
      " 6   price          1048575 non-null  object\n",
      " 7   user_id        1048575 non-null  int64 \n",
      " 8   user_session   1048357 non-null  object\n",
      "dtypes: int64(3), object(6)\n",
      "memory usage: 72.0+ MB\n"
     ]
    }
   ],
   "source": [
    "data = pd.read_csv('matala2_cosmetics_2019-Nov.csv')\n",
    "data.head()\n",
    "data.info()"
   ]
  },
  {
   "cell_type": "code",
   "execution_count": 865,
   "metadata": {},
   "outputs": [
    {
     "data": {
      "text/html": [
       "<div>\n",
       "<style scoped>\n",
       "    .dataframe tbody tr th:only-of-type {\n",
       "        vertical-align: middle;\n",
       "    }\n",
       "\n",
       "    .dataframe tbody tr th {\n",
       "        vertical-align: top;\n",
       "    }\n",
       "\n",
       "    .dataframe thead th {\n",
       "        text-align: right;\n",
       "    }\n",
       "</style>\n",
       "<table border=\"1\" class=\"dataframe\">\n",
       "  <thead>\n",
       "    <tr style=\"text-align: right;\">\n",
       "      <th></th>\n",
       "      <th>event_time</th>\n",
       "      <th>event_type</th>\n",
       "      <th>product_id</th>\n",
       "      <th>category_id</th>\n",
       "      <th>category_code</th>\n",
       "      <th>brand</th>\n",
       "      <th>price</th>\n",
       "      <th>user_id</th>\n",
       "      <th>user_session</th>\n",
       "    </tr>\n",
       "  </thead>\n",
       "  <tbody>\n",
       "    <tr>\n",
       "      <th>0</th>\n",
       "      <td>2019-11-01 00:00:02</td>\n",
       "      <td>view</td>\n",
       "      <td>5802432</td>\n",
       "      <td>1487580009286590000</td>\n",
       "      <td>NaN</td>\n",
       "      <td>NaN</td>\n",
       "      <td>0.32</td>\n",
       "      <td>562076640</td>\n",
       "      <td>09fafd6c-6c99-46b1-834f-33527f4de241</td>\n",
       "    </tr>\n",
       "    <tr>\n",
       "      <th>6</th>\n",
       "      <td>2019-11-01 00:00:25</td>\n",
       "      <td>view</td>\n",
       "      <td>5856189</td>\n",
       "      <td>1487580009026550000</td>\n",
       "      <td>NaN</td>\n",
       "      <td>runail</td>\n",
       "      <td>15.71</td>\n",
       "      <td>562076640</td>\n",
       "      <td>09fafd6c-6c99-46b1-834f-33527f4de241</td>\n",
       "    </tr>\n",
       "    <tr>\n",
       "      <th>12</th>\n",
       "      <td>2019-11-01 00:00:50</td>\n",
       "      <td>view</td>\n",
       "      <td>5856190</td>\n",
       "      <td>1487580009026550000</td>\n",
       "      <td>NaN</td>\n",
       "      <td>runail</td>\n",
       "      <td>15.71</td>\n",
       "      <td>562076640</td>\n",
       "      <td>09fafd6c-6c99-46b1-834f-33527f4de241</td>\n",
       "    </tr>\n",
       "    <tr>\n",
       "      <th>15</th>\n",
       "      <td>2019-11-01 00:00:57</td>\n",
       "      <td>view</td>\n",
       "      <td>5674484</td>\n",
       "      <td>1487580009026550000</td>\n",
       "      <td>NaN</td>\n",
       "      <td>runail</td>\n",
       "      <td>15.71</td>\n",
       "      <td>562076640</td>\n",
       "      <td>09fafd6c-6c99-46b1-834f-33527f4de241</td>\n",
       "    </tr>\n",
       "    <tr>\n",
       "      <th>53</th>\n",
       "      <td>2019-11-01 00:03:44</td>\n",
       "      <td>cart</td>\n",
       "      <td>5674484</td>\n",
       "      <td>1487580009026550000</td>\n",
       "      <td>NaN</td>\n",
       "      <td>runail</td>\n",
       "      <td>15.71</td>\n",
       "      <td>562076640</td>\n",
       "      <td>09fafd6c-6c99-46b1-834f-33527f4de241</td>\n",
       "    </tr>\n",
       "    <tr>\n",
       "      <th>55</th>\n",
       "      <td>2019-11-01 00:03:46</td>\n",
       "      <td>view</td>\n",
       "      <td>5856190</td>\n",
       "      <td>1487580009026550000</td>\n",
       "      <td>NaN</td>\n",
       "      <td>runail</td>\n",
       "      <td>15.71</td>\n",
       "      <td>562076640</td>\n",
       "      <td>09fafd6c-6c99-46b1-834f-33527f4de241</td>\n",
       "    </tr>\n",
       "    <tr>\n",
       "      <th>56</th>\n",
       "      <td>2019-11-01 00:03:54</td>\n",
       "      <td>view</td>\n",
       "      <td>5856189</td>\n",
       "      <td>1487580009026550000</td>\n",
       "      <td>NaN</td>\n",
       "      <td>runail</td>\n",
       "      <td>15.71</td>\n",
       "      <td>562076640</td>\n",
       "      <td>09fafd6c-6c99-46b1-834f-33527f4de241</td>\n",
       "    </tr>\n",
       "    <tr>\n",
       "      <th>80</th>\n",
       "      <td>2019-11-01 00:05:02</td>\n",
       "      <td>view</td>\n",
       "      <td>5896424</td>\n",
       "      <td>1487580006300250000</td>\n",
       "      <td>NaN</td>\n",
       "      <td>jessnail</td>\n",
       "      <td>32.54</td>\n",
       "      <td>562076640</td>\n",
       "      <td>09fafd6c-6c99-46b1-834f-33527f4de241</td>\n",
       "    </tr>\n",
       "    <tr>\n",
       "      <th>31270</th>\n",
       "      <td>2019-11-01 09:21:54</td>\n",
       "      <td>view</td>\n",
       "      <td>5895424</td>\n",
       "      <td>2154396123597370000</td>\n",
       "      <td>NaN</td>\n",
       "      <td>levrana</td>\n",
       "      <td>7.94</td>\n",
       "      <td>203531121</td>\n",
       "      <td>6f673fc9-aee4-437b-aabd-03a0f01127a5</td>\n",
       "    </tr>\n",
       "    <tr>\n",
       "      <th>31398</th>\n",
       "      <td>2019-11-01 09:23:01</td>\n",
       "      <td>view</td>\n",
       "      <td>5895425</td>\n",
       "      <td>2154396123597370000</td>\n",
       "      <td>NaN</td>\n",
       "      <td>levrana</td>\n",
       "      <td>7.94</td>\n",
       "      <td>203531121</td>\n",
       "      <td>6f673fc9-aee4-437b-aabd-03a0f01127a5</td>\n",
       "    </tr>\n",
       "    <tr>\n",
       "      <th>347434</th>\n",
       "      <td>2019-11-03 20:54:11</td>\n",
       "      <td>view</td>\n",
       "      <td>5854835</td>\n",
       "      <td>1602943681873050000</td>\n",
       "      <td>NaN</td>\n",
       "      <td>grattol</td>\n",
       "      <td>5.24</td>\n",
       "      <td>562076640</td>\n",
       "      <td>b521c533-b482-4590-948e-e69403b58daf</td>\n",
       "    </tr>\n",
       "    <tr>\n",
       "      <th>908289</th>\n",
       "      <td>2019-11-07 16:00:10</td>\n",
       "      <td>cart</td>\n",
       "      <td>5826721</td>\n",
       "      <td>1487580008313520000</td>\n",
       "      <td>NaN</td>\n",
       "      <td>nirvel</td>\n",
       "      <td>8.76</td>\n",
       "      <td>203531121</td>\n",
       "      <td>7bfa8be2-d1db-43bd-8801-a0b13b8a4618</td>\n",
       "    </tr>\n",
       "    <tr>\n",
       "      <th>908718</th>\n",
       "      <td>2019-11-07 16:01:55</td>\n",
       "      <td>cart</td>\n",
       "      <td>5830332</td>\n",
       "      <td>1487580008313520000</td>\n",
       "      <td>NaN</td>\n",
       "      <td>mielle</td>\n",
       "      <td>9.56</td>\n",
       "      <td>203531121</td>\n",
       "      <td>7bfa8be2-d1db-43bd-8801-a0b13b8a4618</td>\n",
       "    </tr>\n",
       "    <tr>\n",
       "      <th>908738</th>\n",
       "      <td>2019-11-07 16:01:59</td>\n",
       "      <td>cart</td>\n",
       "      <td>5799080</td>\n",
       "      <td>1487580008313520000</td>\n",
       "      <td>NaN</td>\n",
       "      <td>NaN</td>\n",
       "      <td>5.27</td>\n",
       "      <td>203531121</td>\n",
       "      <td>7bfa8be2-d1db-43bd-8801-a0b13b8a4618</td>\n",
       "    </tr>\n",
       "    <tr>\n",
       "      <th>1029605</th>\n",
       "      <td>2019-11-08 09:23:34</td>\n",
       "      <td>view</td>\n",
       "      <td>5799080</td>\n",
       "      <td>1487580008313520000</td>\n",
       "      <td>NaN</td>\n",
       "      <td>NaN</td>\n",
       "      <td>5.27</td>\n",
       "      <td>203531121</td>\n",
       "      <td>de1016fe-0b5b-4bd1-a17c-1533fe21ecb5</td>\n",
       "    </tr>\n",
       "    <tr>\n",
       "      <th>1029868</th>\n",
       "      <td>2019-11-08 09:25:02</td>\n",
       "      <td>view</td>\n",
       "      <td>5823656</td>\n",
       "      <td>1487580008313520000</td>\n",
       "      <td>NaN</td>\n",
       "      <td>NaN</td>\n",
       "      <td>6.3</td>\n",
       "      <td>203531121</td>\n",
       "      <td>de1016fe-0b5b-4bd1-a17c-1533fe21ecb5</td>\n",
       "    </tr>\n",
       "    <tr>\n",
       "      <th>1030055</th>\n",
       "      <td>2019-11-08 09:26:11</td>\n",
       "      <td>view</td>\n",
       "      <td>5826721</td>\n",
       "      <td>1487580008313520000</td>\n",
       "      <td>NaN</td>\n",
       "      <td>nirvel</td>\n",
       "      <td>8.76</td>\n",
       "      <td>203531121</td>\n",
       "      <td>de1016fe-0b5b-4bd1-a17c-1533fe21ecb5</td>\n",
       "    </tr>\n",
       "  </tbody>\n",
       "</table>\n",
       "</div>"
      ],
      "text/plain": [
       "                  event_time event_type  product_id          category_id  \\\n",
       "0        2019-11-01 00:00:02       view     5802432  1487580009286590000   \n",
       "6        2019-11-01 00:00:25       view     5856189  1487580009026550000   \n",
       "12       2019-11-01 00:00:50       view     5856190  1487580009026550000   \n",
       "15       2019-11-01 00:00:57       view     5674484  1487580009026550000   \n",
       "53       2019-11-01 00:03:44       cart     5674484  1487580009026550000   \n",
       "55       2019-11-01 00:03:46       view     5856190  1487580009026550000   \n",
       "56       2019-11-01 00:03:54       view     5856189  1487580009026550000   \n",
       "80       2019-11-01 00:05:02       view     5896424  1487580006300250000   \n",
       "31270    2019-11-01 09:21:54       view     5895424  2154396123597370000   \n",
       "31398    2019-11-01 09:23:01       view     5895425  2154396123597370000   \n",
       "347434   2019-11-03 20:54:11       view     5854835  1602943681873050000   \n",
       "908289   2019-11-07 16:00:10       cart     5826721  1487580008313520000   \n",
       "908718   2019-11-07 16:01:55       cart     5830332  1487580008313520000   \n",
       "908738   2019-11-07 16:01:59       cart     5799080  1487580008313520000   \n",
       "1029605  2019-11-08 09:23:34       view     5799080  1487580008313520000   \n",
       "1029868  2019-11-08 09:25:02       view     5823656  1487580008313520000   \n",
       "1030055  2019-11-08 09:26:11       view     5826721  1487580008313520000   \n",
       "\n",
       "        category_code     brand  price    user_id  \\\n",
       "0                 NaN       NaN   0.32  562076640   \n",
       "6                 NaN    runail  15.71  562076640   \n",
       "12                NaN    runail  15.71  562076640   \n",
       "15                NaN    runail  15.71  562076640   \n",
       "53                NaN    runail  15.71  562076640   \n",
       "55                NaN    runail  15.71  562076640   \n",
       "56                NaN    runail  15.71  562076640   \n",
       "80                NaN  jessnail  32.54  562076640   \n",
       "31270             NaN   levrana   7.94  203531121   \n",
       "31398             NaN   levrana   7.94  203531121   \n",
       "347434            NaN   grattol   5.24  562076640   \n",
       "908289            NaN    nirvel   8.76  203531121   \n",
       "908718            NaN    mielle   9.56  203531121   \n",
       "908738            NaN       NaN   5.27  203531121   \n",
       "1029605           NaN       NaN   5.27  203531121   \n",
       "1029868           NaN       NaN    6.3  203531121   \n",
       "1030055           NaN    nirvel   8.76  203531121   \n",
       "\n",
       "                                 user_session  \n",
       "0        09fafd6c-6c99-46b1-834f-33527f4de241  \n",
       "6        09fafd6c-6c99-46b1-834f-33527f4de241  \n",
       "12       09fafd6c-6c99-46b1-834f-33527f4de241  \n",
       "15       09fafd6c-6c99-46b1-834f-33527f4de241  \n",
       "53       09fafd6c-6c99-46b1-834f-33527f4de241  \n",
       "55       09fafd6c-6c99-46b1-834f-33527f4de241  \n",
       "56       09fafd6c-6c99-46b1-834f-33527f4de241  \n",
       "80       09fafd6c-6c99-46b1-834f-33527f4de241  \n",
       "31270    6f673fc9-aee4-437b-aabd-03a0f01127a5  \n",
       "31398    6f673fc9-aee4-437b-aabd-03a0f01127a5  \n",
       "347434   b521c533-b482-4590-948e-e69403b58daf  \n",
       "908289   7bfa8be2-d1db-43bd-8801-a0b13b8a4618  \n",
       "908718   7bfa8be2-d1db-43bd-8801-a0b13b8a4618  \n",
       "908738   7bfa8be2-d1db-43bd-8801-a0b13b8a4618  \n",
       "1029605  de1016fe-0b5b-4bd1-a17c-1533fe21ecb5  \n",
       "1029868  de1016fe-0b5b-4bd1-a17c-1533fe21ecb5  \n",
       "1030055  de1016fe-0b5b-4bd1-a17c-1533fe21ecb5  "
      ]
     },
     "execution_count": 865,
     "metadata": {},
     "output_type": "execute_result"
    }
   ],
   "source": [
    "\n",
    "data = data.loc[data['user_id'].isin([203531121, 562076640])]\n",
    "data"
   ]
  },
  {
   "cell_type": "code",
   "execution_count": 866,
   "metadata": {},
   "outputs": [],
   "source": [
    "data = data[data['user_session'].notnull()]"
   ]
  },
  {
   "cell_type": "code",
   "execution_count": 867,
   "metadata": {},
   "outputs": [
    {
     "name": "stdout",
     "output_type": "stream",
     "text": [
      "<class 'pandas.core.frame.DataFrame'>\n",
      "Int64Index: 17 entries, 0 to 1030055\n",
      "Data columns (total 9 columns):\n",
      " #   Column         Non-Null Count  Dtype         \n",
      "---  ------         --------------  -----         \n",
      " 0   event_time     17 non-null     datetime64[ns]\n",
      " 1   event_type     17 non-null     object        \n",
      " 2   product_id     17 non-null     int64         \n",
      " 3   category_id    17 non-null     int64         \n",
      " 4   category_code  0 non-null      object        \n",
      " 5   brand          13 non-null     object        \n",
      " 6   price          17 non-null     object        \n",
      " 7   user_id        17 non-null     int64         \n",
      " 8   user_session   17 non-null     object        \n",
      "dtypes: datetime64[ns](1), int64(3), object(5)\n",
      "memory usage: 1.3+ KB\n"
     ]
    }
   ],
   "source": [
    "data['event_time'] = data['event_time'].apply(lambda x: dt.datetime.strptime(x,'%Y-%m-%d %H:%M:%S'))\n",
    "data.info()"
   ]
  },
  {
   "attachments": {},
   "cell_type": "markdown",
   "metadata": {},
   "source": [
    "\n",
    "**סעיף 1**"
   ]
  },
  {
   "cell_type": "code",
   "execution_count": 868,
   "metadata": {},
   "outputs": [],
   "source": [
    "data = data.sort_values(['user_session', 'event_time'], ascending=[True, True])\n",
    "data['duration_to_next_event'] = data.groupby('user_session')['event_time'].diff(-1).dt.total_seconds().fillna(0)\n",
    "data.loc[data.groupby('user_session').tail(1).index, 'duration_to_next_event'] = 0\n",
    "data['duration_to_next_event'] = data['duration_to_next_event'].abs()"
   ]
  },
  {
   "attachments": {},
   "cell_type": "markdown",
   "metadata": {},
   "source": [
    "**סעיף 2**"
   ]
  },
  {
   "cell_type": "code",
   "execution_count": 869,
   "metadata": {},
   "outputs": [],
   "source": [
    "data = data.sort_values(['user_id', 'event_time'], ascending=[True, True])\n",
    "data['diff_for_funnel'] = data.groupby('user_id')['event_time'].diff()\n",
    "data['funnel_number'] = (data['diff_for_funnel'] > pd.Timedelta(days=5)).groupby(data['user_id']).cumsum()\n",
    "data['funnel_number'] = data['funnel_number'].fillna(0) + 1"
   ]
  },
  {
   "attachments": {},
   "cell_type": "markdown",
   "metadata": {},
   "source": [
    "**סעיף 3**"
   ]
  },
  {
   "cell_type": "code",
   "execution_count": 870,
   "metadata": {},
   "outputs": [],
   "source": [
    "data['index_in_funnel'] = data.groupby(['user_id','funnel_number'])['user_session'].transform('nunique')"
   ]
  },
  {
   "attachments": {},
   "cell_type": "markdown",
   "metadata": {},
   "source": [
    "**סעיף 4**"
   ]
  },
  {
   "attachments": {},
   "cell_type": "markdown",
   "metadata": {},
   "source": [
    "לגבי הסעיף הזה שמתי לב כשאני מנסה להעיף את התבים שהם לא מספר בעמודה מחיר הפקודה היה מוחק לי חלק מהערכים התקינים \n",
    " אז בחרתי לייצר דאטה פראם חדש שכוללת רק את הערכים הלא תקינים ,לעיף את התבים שהם לא מספר ואז להחליף את השורות האלה בדאטה פראם המקורי עם השורות של הדאטה פראם שעבדתי עליו.\n"
   ]
  },
  {
   "cell_type": "code",
   "execution_count": 872,
   "metadata": {},
   "outputs": [],
   "source": [
    "data_with_letter_in_price = data[data['price'].str.contains(r'[^\\d.]', na=False)]\n",
    "data_with_letter_in_price['price'] = data_with_letter_in_price['price'].str.extract(r'(\\d+\\.?\\d*)', expand=False)\n",
    "data.update(data_with_letter_in_price)\n",
    "data['price'] = data['price'].astype(float)"
   ]
  },
  {
   "attachments": {},
   "cell_type": "markdown",
   "metadata": {},
   "source": [
    "**סעיף 5**"
   ]
  },
  {
   "cell_type": "code",
   "execution_count": 873,
   "metadata": {},
   "outputs": [
    {
     "data": {
      "image/png": "[encoded data removed]",
      "text/plain": [
       "<Figure size 432x288 with 1 Axes>"
      ]
     },
     "metadata": {
      "needs_background": "light"
     },
     "output_type": "display_data"
    }
   ],
   "source": [
    "data['event_type'].value_counts().plot(kind='bar', xlabel='event type', ylabel='frequency')\n",
    "plt.show()"
   ]
  },
  {
   "attachments": {},
   "cell_type": "markdown",
   "metadata": {},
   "source": [
    "**סעיף 6**"
   ]
  },
  {
   "cell_type": "code",
   "execution_count": 874,
   "metadata": {},
   "outputs": [],
   "source": [
    "#CREATE A NEW DATAFRAME\n",
    "session_data = data.loc[:, ['user_id', 'user_session', 'funnel_number','index_in_funnel']].drop_duplicates()\n"
   ]
  },
  {
   "cell_type": "code",
   "execution_count": 875,
   "metadata": {},
   "outputs": [],
   "source": [
    "#COUNT num of event for session\n",
    "datacounts = data.groupby('user_session')['event_time'].count()\n",
    "session_data ['num_of_event'] = session_data ['user_session'].map(datacounts)"
   ]
  },
  {
   "cell_type": "code",
   "execution_count": 876,
   "metadata": {},
   "outputs": [],
   "source": [
    "#TIME of event for session\n",
    "datatime = data.groupby('user_session')['event_time'].apply(lambda x: x.max() - x.min())\n",
    "session_data ['connection_time'] = session_data ['user_session'].map(datatime)\n"
   ]
  },
  {
   "cell_type": "code",
   "execution_count": 877,
   "metadata": {},
   "outputs": [],
   "source": [
    "#PRODUCT ID view for session\n",
    "view_products_list = data[data['event_type'] == 'view'].groupby('user_session')['product_id'].agg(list)\n",
    "session_data['list_of_viewed'] = session_data ['user_session'].map(view_products_list)"
   ]
  },
  {
   "cell_type": "code",
   "execution_count": 878,
   "metadata": {},
   "outputs": [],
   "source": [
    "#PRODUCT ID cart for session\n",
    "cart_products_list = data[data['event_type'] == 'cart'].groupby('user_session')['product_id'].agg(list)\n",
    "session_data['list_of_added_to_cart'] = session_data ['user_session'].map(cart_products_list)"
   ]
  },
  {
   "cell_type": "code",
   "execution_count": 879,
   "metadata": {},
   "outputs": [],
   "source": [
    "#PRODUCT ID purchase for session\n",
    "purchases_products_list = data[data['event_type'] == 'purchase'].groupby('user_session')['product_id'].agg(list)\n",
    "session_data['list_of_purchased'] = session_data ['user_session'].map(purchases_products_list)"
   ]
  },
  {
   "cell_type": "code",
   "execution_count": 881,
   "metadata": {},
   "outputs": [
    {
     "data": {
      "text/html": [
       "<div>\n",
       "<style scoped>\n",
       "    .dataframe tbody tr th:only-of-type {\n",
       "        vertical-align: middle;\n",
       "    }\n",
       "\n",
       "    .dataframe tbody tr th {\n",
       "        vertical-align: top;\n",
       "    }\n",
       "\n",
       "    .dataframe thead th {\n",
       "        text-align: right;\n",
       "    }\n",
       "</style>\n",
       "<table border=\"1\" class=\"dataframe\">\n",
       "  <thead>\n",
       "    <tr style=\"text-align: right;\">\n",
       "      <th></th>\n",
       "      <th>user_id</th>\n",
       "      <th>user_session</th>\n",
       "      <th>funnel_number</th>\n",
       "      <th>index_in_funnel</th>\n",
       "      <th>num_of_event</th>\n",
       "      <th>connection_time</th>\n",
       "      <th>list_of_viewed</th>\n",
       "      <th>list_of_added_to_cart</th>\n",
       "      <th>list_of_purchased</th>\n",
       "    </tr>\n",
       "  </thead>\n",
       "  <tbody>\n",
       "    <tr>\n",
       "      <th>31270</th>\n",
       "      <td>203531121</td>\n",
       "      <td>6f673fc9-aee4-437b-aabd-03a0f01127a5</td>\n",
       "      <td>1</td>\n",
       "      <td>1</td>\n",
       "      <td>2</td>\n",
       "      <td>0 days 00:01:07</td>\n",
       "      <td>[5895424, 5895425]</td>\n",
       "      <td>NaN</td>\n",
       "      <td>NaN</td>\n",
       "    </tr>\n",
       "    <tr>\n",
       "      <th>908289</th>\n",
       "      <td>203531121</td>\n",
       "      <td>7bfa8be2-d1db-43bd-8801-a0b13b8a4618</td>\n",
       "      <td>2</td>\n",
       "      <td>2</td>\n",
       "      <td>3</td>\n",
       "      <td>0 days 00:01:49</td>\n",
       "      <td>NaN</td>\n",
       "      <td>[5826721, 5830332, 5799080]</td>\n",
       "      <td>NaN</td>\n",
       "    </tr>\n",
       "    <tr>\n",
       "      <th>1029605</th>\n",
       "      <td>203531121</td>\n",
       "      <td>de1016fe-0b5b-4bd1-a17c-1533fe21ecb5</td>\n",
       "      <td>2</td>\n",
       "      <td>2</td>\n",
       "      <td>3</td>\n",
       "      <td>0 days 00:02:37</td>\n",
       "      <td>[5799080, 5823656, 5826721]</td>\n",
       "      <td>NaN</td>\n",
       "      <td>NaN</td>\n",
       "    </tr>\n",
       "    <tr>\n",
       "      <th>0</th>\n",
       "      <td>562076640</td>\n",
       "      <td>09fafd6c-6c99-46b1-834f-33527f4de241</td>\n",
       "      <td>1</td>\n",
       "      <td>2</td>\n",
       "      <td>8</td>\n",
       "      <td>0 days 00:05:00</td>\n",
       "      <td>[5802432, 5856189, 5856190, 5674484, 5856190, ...</td>\n",
       "      <td>[5674484]</td>\n",
       "      <td>NaN</td>\n",
       "    </tr>\n",
       "    <tr>\n",
       "      <th>347434</th>\n",
       "      <td>562076640</td>\n",
       "      <td>b521c533-b482-4590-948e-e69403b58daf</td>\n",
       "      <td>1</td>\n",
       "      <td>2</td>\n",
       "      <td>1</td>\n",
       "      <td>0 days 00:00:00</td>\n",
       "      <td>[5854835]</td>\n",
       "      <td>NaN</td>\n",
       "      <td>NaN</td>\n",
       "    </tr>\n",
       "  </tbody>\n",
       "</table>\n",
       "</div>"
      ],
      "text/plain": [
       "           user_id                          user_session  funnel_number  \\\n",
       "31270    203531121  6f673fc9-aee4-437b-aabd-03a0f01127a5              1   \n",
       "908289   203531121  7bfa8be2-d1db-43bd-8801-a0b13b8a4618              2   \n",
       "1029605  203531121  de1016fe-0b5b-4bd1-a17c-1533fe21ecb5              2   \n",
       "0        562076640  09fafd6c-6c99-46b1-834f-33527f4de241              1   \n",
       "347434   562076640  b521c533-b482-4590-948e-e69403b58daf              1   \n",
       "\n",
       "         index_in_funnel  num_of_event connection_time  \\\n",
       "31270                  1             2 0 days 00:01:07   \n",
       "908289                 2             3 0 days 00:01:49   \n",
       "1029605                2             3 0 days 00:02:37   \n",
       "0                      2             8 0 days 00:05:00   \n",
       "347434                 2             1 0 days 00:00:00   \n",
       "\n",
       "                                            list_of_viewed  \\\n",
       "31270                                   [5895424, 5895425]   \n",
       "908289                                                 NaN   \n",
       "1029605                        [5799080, 5823656, 5826721]   \n",
       "0        [5802432, 5856189, 5856190, 5674484, 5856190, ...   \n",
       "347434                                           [5854835]   \n",
       "\n",
       "               list_of_added_to_cart  list_of_purchased  \n",
       "31270                            NaN                NaN  \n",
       "908289   [5826721, 5830332, 5799080]                NaN  \n",
       "1029605                          NaN                NaN  \n",
       "0                          [5674484]                NaN  \n",
       "347434                           NaN                NaN  "
      ]
     },
     "execution_count": 881,
     "metadata": {},
     "output_type": "execute_result"
    }
   ],
   "source": [
    "session_data"
   ]
  },
  {
   "cell_type": "code",
   "execution_count": null,
   "metadata": {},
   "outputs": [],
   "source": []
  }
 ],
 "metadata": {
  "kernelspec": {
   "display_name": "base",
   "language": "python",
   "name": "python3"
  },
  "language_info": {
   "codemirror_mode": {
    "name": "ipython",
    "version": 3
   },
   "file_extension": ".py",
   "mimetype": "text/x-python",
   "name": "python",
   "nbconvert_exporter": "python",
   "pygments_lexer": "ipython3",
   "version": "3.8.5"
  },
  "orig_nbformat": 4
 },
 "nbformat": 4,
 "nbformat_minor": 2
}
